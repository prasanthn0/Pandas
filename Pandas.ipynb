{
 "cells": [
  {
   "cell_type": "markdown",
   "metadata": {},
   "source": [
    "Pandas is an open-source Python Library providing high-performance data manipulation and analysis tool using its powerful data \n",
    "structures. The name Pandas is derived from the word Panel Data – an Econometrics from Multidimensional data.\n",
    "\n",
    "In 2008, developer Wes McKinney started developing pandas when in need of high performance, flexible tool for analysis of data.\n",
    "Prior to Pandas, Python was majorly used for data munging and preparation. It had very little contribution towards data analysis. Pandas solved this problem. \n",
    "\n",
    "Using Pandas, we can accomplish five typical steps in the processing and analysis of data, regardless of the origin of data — load, prepare, manipulate, model, and analyze.\n",
    "Python with Pandas is used in a wide range of fields including academic and commercial domains including finance, economics, Statistics, analytics, etc.\n",
    "\n",
    "Key Features of Pandas :\n",
    "\n",
    "-Fast and efficient DataFrame object with default and customized indexing.\n",
    "-Tools for loading data into in-memory data objects from different file formats.\n",
    "-Data alignment and integrated handling of missing data.\n",
    "-Reshaping and pivoting of date sets.\n",
    "-Label-based slicing, indexing and subsetting of large data sets.\n",
    "-Columns from a data structure can be deleted or inserted.\n",
    "-Group by data for aggregation and transformations.\n",
    "-High performance merging and joining of data.\n",
    "-Time Series functionality."
   ]
  },
  {
   "cell_type": "code",
   "execution_count": 1,
   "metadata": {},
   "outputs": [
    {
     "data": {
      "text/html": [
       "<div>\n",
       "<style scoped>\n",
       "    .dataframe tbody tr th:only-of-type {\n",
       "        vertical-align: middle;\n",
       "    }\n",
       "\n",
       "    .dataframe tbody tr th {\n",
       "        vertical-align: top;\n",
       "    }\n",
       "\n",
       "    .dataframe thead th {\n",
       "        text-align: right;\n",
       "    }\n",
       "</style>\n",
       "<table border=\"1\" class=\"dataframe\">\n",
       "  <thead>\n",
       "    <tr style=\"text-align: right;\">\n",
       "      <th></th>\n",
       "      <th>name</th>\n",
       "      <th>marks</th>\n",
       "      <th>chk</th>\n",
       "    </tr>\n",
       "  </thead>\n",
       "  <tbody>\n",
       "    <tr>\n",
       "      <th>Roll no.1</th>\n",
       "      <td>Rio</td>\n",
       "      <td>56</td>\n",
       "      <td>2</td>\n",
       "    </tr>\n",
       "    <tr>\n",
       "      <th>Roll no.2</th>\n",
       "      <td>Archana</td>\n",
       "      <td>78</td>\n",
       "      <td>3</td>\n",
       "    </tr>\n",
       "    <tr>\n",
       "      <th>Roll no.3</th>\n",
       "      <td>Bala</td>\n",
       "      <td>45</td>\n",
       "      <td>4</td>\n",
       "    </tr>\n",
       "    <tr>\n",
       "      <th>Roll no.4</th>\n",
       "      <td>Gaby</td>\n",
       "      <td>89</td>\n",
       "      <td>5</td>\n",
       "    </tr>\n",
       "  </tbody>\n",
       "</table>\n",
       "</div>"
      ],
      "text/plain": [
       "              name  marks  chk\n",
       "Roll no.1      Rio     56    2\n",
       "Roll no.2  Archana     78    3\n",
       "Roll no.3     Bala     45    4\n",
       "Roll no.4     Gaby     89    5"
      ]
     },
     "execution_count": 1,
     "metadata": {},
     "output_type": "execute_result"
    }
   ],
   "source": [
    "#Method 1 : Using lists as columns\n",
    "\n",
    "import pandas as pd\n",
    "data={\n",
    "    'name':['Rio','Archana','Bala','Gaby'],\n",
    "    'marks':[56,78,45,89],'chk':[2,3,4,5]\n",
    "}\n",
    "\n",
    "\n",
    "df=pd.DataFrame(data,index=['Roll no.1',\n",
    "                            'Roll no.2',\n",
    "                            'Roll no.3',\n",
    "                            'Roll no.4'])\n",
    "\n",
    "df"
   ]
  },
  {
   "cell_type": "code",
   "execution_count": 2,
   "metadata": {},
   "outputs": [
    {
     "data": {
      "text/html": [
       "<div>\n",
       "<style scoped>\n",
       "    .dataframe tbody tr th:only-of-type {\n",
       "        vertical-align: middle;\n",
       "    }\n",
       "\n",
       "    .dataframe tbody tr th {\n",
       "        vertical-align: top;\n",
       "    }\n",
       "\n",
       "    .dataframe thead th {\n",
       "        text-align: right;\n",
       "    }\n",
       "</style>\n",
       "<table border=\"1\" class=\"dataframe\">\n",
       "  <thead>\n",
       "    <tr style=\"text-align: right;\">\n",
       "      <th></th>\n",
       "      <th>a</th>\n",
       "      <th>b</th>\n",
       "      <th>c</th>\n",
       "    </tr>\n",
       "  </thead>\n",
       "  <tbody>\n",
       "    <tr>\n",
       "      <th>first</th>\n",
       "      <td>1</td>\n",
       "      <td>2</td>\n",
       "      <td>NaN</td>\n",
       "    </tr>\n",
       "    <tr>\n",
       "      <th>second</th>\n",
       "      <td>5</td>\n",
       "      <td>10</td>\n",
       "      <td>20.0</td>\n",
       "    </tr>\n",
       "  </tbody>\n",
       "</table>\n",
       "</div>"
      ],
      "text/plain": [
       "        a   b     c\n",
       "first   1   2   NaN\n",
       "second  5  10  20.0"
      ]
     },
     "execution_count": 2,
     "metadata": {},
     "output_type": "execute_result"
    }
   ],
   "source": [
    "# Method 2 : Using dictionary with keys are column names.\n",
    "\n",
    "data1 = [{'a': 1, 'b': 2}, \n",
    "        {'a': 5, 'b': 10, 'c': 20}] \n",
    "   \n",
    "\n",
    "df1 = pd.DataFrame(data1, index =['first', \n",
    "                                 'second']) \n",
    "   \n",
    "df1"
   ]
  },
  {
   "cell_type": "code",
   "execution_count": 3,
   "metadata": {},
   "outputs": [
    {
     "name": "stdout",
     "output_type": "stream",
     "text": [
      "array('i', [3, 4, 8, 9, 10])\n"
     ]
    }
   ],
   "source": [
    "# Array\n",
    "\n",
    "from array import *\n",
    "b=[3,4,8,9,10]\n",
    "arr=array('i',b)   # i is integer \n",
    "print(arr)"
   ]
  },
  {
   "cell_type": "code",
   "execution_count": 4,
   "metadata": {},
   "outputs": [
    {
     "name": "stdout",
     "output_type": "stream",
     "text": [
      "0    a\n",
      "1    b\n",
      "2    c\n",
      "3    d\n",
      "dtype: object\n"
     ]
    }
   ],
   "source": [
    "import pandas as PD\n",
    "import numpy as np\n",
    "Test_data = np.array(['a','b','c','d'])\n",
    "Sample = PD.Series(Test_data)  # default indexing is 0,1,2,3,4......\n",
    "print(Sample)\n"
   ]
  },
  {
   "cell_type": "code",
   "execution_count": 7,
   "metadata": {},
   "outputs": [
    {
     "name": "stdout",
     "output_type": "stream",
     "text": [
      "          Name    Age \n",
      "1BM10     Alex      10\n",
      "1BM11      Bob      12\n",
      "1BM12   Clarke      13\n"
     ]
    }
   ],
   "source": [
    "# Method 3 : Row Method i.e., List of Lists\n",
    "\n",
    "import pandas as PD\n",
    "data = [[ ' Alex ' , 10 ],[ ' Bob ', 12 ],[ ' Clarke ' , 13 ]] \n",
    "df = PD.DataFrame(data,columns=[' Name ' , ' Age '] , index=['1BM10' , '1BM11' , '1BM12'])\n",
    "print(df)"
   ]
  },
  {
   "cell_type": "code",
   "execution_count": 8,
   "metadata": {},
   "outputs": [
    {
     "data": {
      "text/plain": [
       "array([[-2.01740101,  0.4519964 , -0.91095219],\n",
       "       [ 0.26383763, -0.66725283, -0.50912035],\n",
       "       [-0.4931261 ,  0.7873214 , -0.83004821],\n",
       "       [-0.15338699,  1.15674966,  0.93136768]])"
      ]
     },
     "execution_count": 8,
     "metadata": {},
     "output_type": "execute_result"
    }
   ],
   "source": [
    "import numpy\n",
    "numpy.random.randn(4,3)  # 4 rows and 3 coulmns of random data"
   ]
  },
  {
   "cell_type": "code",
   "execution_count": 9,
   "metadata": {},
   "outputs": [
    {
     "name": "stdout",
     "output_type": "stream",
     "text": [
      "{'Item1':           0         1         2\n",
      "0 -0.181391  0.537180  0.348613\n",
      "1 -0.899592  1.074465  0.721117\n",
      "2  0.207877 -0.908680  0.370636\n",
      "3  0.208582  0.579852 -0.750118, 'Item2':           0         1\n",
      "0 -0.354223  0.303384\n",
      "1 -1.440069 -0.214508\n",
      "2  1.605752 -0.495482\n",
      "3  0.327317  0.770630}\n"
     ]
    }
   ],
   "source": [
    "import pandas as PD\n",
    "import numpy as np\n",
    "data = {'Item1' : PD.DataFrame(np.random.randn(4, 3)),'Item2' : PD.DataFrame(np.random.randn(4, 2))}\n",
    "#p = PD.Panel(data)\n",
    "print(data)"
   ]
  },
  {
   "cell_type": "code",
   "execution_count": 10,
   "metadata": {},
   "outputs": [
    {
     "name": "stdout",
     "output_type": "stream",
     "text": [
      "      Name  Percentage       Stream\n",
      "1      Rio          56     commerce\n",
      "2  Archana          78      biology\n",
      "3     Bala          45  electronics\n",
      "4     Gaby          89        civil\n",
      "\n",
      "Rio commerce\n",
      "Archana biology\n",
      "Bala electronics\n",
      "Gaby civil\n"
     ]
    }
   ],
   "source": [
    "#Example: To create a dataframe and print its contents.\n",
    "\n",
    "\n",
    "import pandas as pd\n",
    "\n",
    "name=['Rio','Archana','Bala','Gaby']\n",
    "percentage=[56,78,45,89]\n",
    "stream=['commerce','biology','electronics','civil']\n",
    "\n",
    "data={'Name':name,'Percentage':percentage,'Stream':stream}\n",
    "pds=pd.DataFrame(data,index=[1,2,3,4])\n",
    "print(pds)\n",
    "print('')\n",
    "for i in pds.index:\n",
    "    print(pds['Name'][i] , pds['Stream'][i])\n",
    "    "
   ]
  },
  {
   "cell_type": "code",
   "execution_count": 11,
   "metadata": {},
   "outputs": [
    {
     "name": "stdout",
     "output_type": "stream",
     "text": [
      "Given Dataframe :\n",
      "         Name  Age    Stream  Percentage\n",
      "0      Ankit   21      Math          88\n",
      "1       Amit   19  Commerce          92\n",
      "2  Aishwarya   20      Arts          95\n",
      "3   Priyanka   18   Biology          70\n",
      "\n",
      "Iterating over rows using index attribute :\n",
      "\n",
      "Ankit Math\n",
      "Amit Commerce\n",
      "Aishwarya Arts\n",
      "Priyanka Biology\n"
     ]
    }
   ],
   "source": [
    "#example 2:\n",
    "\n",
    "\n",
    "import pandas as pd \n",
    "  \n",
    "# Define a dictionary containing students data \n",
    "data = {'Name': ['Ankit', 'Amit', 'Aishwarya', 'Priyanka'], \n",
    "                'Age': [21, 19, 20, 18], \n",
    "                'Stream': ['Math', 'Commerce', 'Arts', 'Biology'], \n",
    "                'Percentage': [88, 92, 95, 70]} \n",
    "  \n",
    "# Convert the dictionary into DataFrame \n",
    "df = pd.DataFrame(data, columns = ['Name', 'Age', 'Stream', 'Percentage']) \n",
    "  \n",
    "print(\"Given Dataframe :\\n\", df) \n",
    "  \n",
    "print(\"\\nIterating over rows using index attribute :\\n\") \n",
    "  \n",
    "# iterate through each row and select  \n",
    "# 'Name' and 'Stream' column respectively. \n",
    "for ind in df.index: \n",
    "     print(df['Name'][ind], df['Stream'][ind])   #Accesses Name column at index 0 , 1, 2, 3"
   ]
  },
  {
   "cell_type": "code",
   "execution_count": 12,
   "metadata": {},
   "outputs": [
    {
     "data": {
      "text/html": [
       "<div>\n",
       "<style scoped>\n",
       "    .dataframe tbody tr th:only-of-type {\n",
       "        vertical-align: middle;\n",
       "    }\n",
       "\n",
       "    .dataframe tbody tr th {\n",
       "        vertical-align: top;\n",
       "    }\n",
       "\n",
       "    .dataframe thead th {\n",
       "        text-align: right;\n",
       "    }\n",
       "</style>\n",
       "<table border=\"1\" class=\"dataframe\">\n",
       "  <thead>\n",
       "    <tr style=\"text-align: right;\">\n",
       "      <th></th>\n",
       "      <th>Name</th>\n",
       "      <th>Score</th>\n",
       "      <th>Stream</th>\n",
       "    </tr>\n",
       "  </thead>\n",
       "  <tbody>\n",
       "    <tr>\n",
       "      <th>0</th>\n",
       "      <td>Rio</td>\n",
       "      <td>56</td>\n",
       "      <td>commerce</td>\n",
       "    </tr>\n",
       "    <tr>\n",
       "      <th>1</th>\n",
       "      <td>Archana</td>\n",
       "      <td>73</td>\n",
       "      <td>biology</td>\n",
       "    </tr>\n",
       "    <tr>\n",
       "      <th>2</th>\n",
       "      <td>Bala</td>\n",
       "      <td>45</td>\n",
       "      <td>electronics</td>\n",
       "    </tr>\n",
       "    <tr>\n",
       "      <th>3</th>\n",
       "      <td>Gaby</td>\n",
       "      <td>89</td>\n",
       "      <td>civil</td>\n",
       "    </tr>\n",
       "  </tbody>\n",
       "</table>\n",
       "</div>"
      ],
      "text/plain": [
       "      Name  Score       Stream\n",
       "0      Rio     56     commerce\n",
       "1  Archana     73      biology\n",
       "2     Bala     45  electronics\n",
       "3     Gaby     89        civil"
      ]
     },
     "execution_count": 12,
     "metadata": {},
     "output_type": "execute_result"
    }
   ],
   "source": [
    "#Method 4 : Using Zip function\n",
    "\n",
    "import pandas as pd\n",
    "\n",
    "\n",
    "name=['Rio','Archana','Bala','Gaby']\n",
    "percentage=[56,73,45,89]\n",
    "stream=['commerce','biology','electronics','civil']\n",
    "\n",
    "data=list(zip(name,percentage,stream))\n",
    "dls=pd.DataFrame(data,columns=['Name','Score','Stream'])\n",
    "dls"
   ]
  },
  {
   "cell_type": "code",
   "execution_count": null,
   "metadata": {},
   "outputs": [],
   "source": []
  },
  {
   "cell_type": "code",
   "execution_count": null,
   "metadata": {},
   "outputs": [],
   "source": [
    "# gapminder.tsv ( tab seperated value ) file has been attached in same folder."
   ]
  },
  {
   "cell_type": "code",
   "execution_count": 1,
   "metadata": {},
   "outputs": [
    {
     "name": "stdout",
     "output_type": "stream",
     "text": [
      "       country continent  year  lifeExp       pop   gdpPercap\n",
      "0  Afghanistan      Asia  1952   28.801   8425333  779.445314\n",
      "1  Afghanistan      Asia  1957   30.332   9240934  820.853030\n",
      "2  Afghanistan      Asia  1962   31.997  10267083  853.100710\n",
      "3  Afghanistan      Asia  1967   34.020  11537966  836.197138\n",
      "4  Afghanistan      Asia  1972   36.088  13079460  739.981106\n"
     ]
    }
   ],
   "source": [
    "import pandas\n",
    "\n",
    "\n",
    "df=pandas.read_csv('gapminder.tsv',sep='\\t')\n",
    "print(df.head())   #prints only first 5 rows of the data"
   ]
  },
  {
   "cell_type": "code",
   "execution_count": 5,
   "metadata": {},
   "outputs": [
    {
     "data": {
      "text/plain": [
       "pandas.core.frame.DataFrame"
      ]
     },
     "execution_count": 5,
     "metadata": {},
     "output_type": "execute_result"
    }
   ],
   "source": [
    "type(df)"
   ]
  },
  {
   "cell_type": "code",
   "execution_count": 7,
   "metadata": {},
   "outputs": [
    {
     "data": {
      "text/plain": [
       "(1704, 6)"
      ]
     },
     "execution_count": 7,
     "metadata": {},
     "output_type": "execute_result"
    }
   ],
   "source": [
    "df.shape"
   ]
  },
  {
   "cell_type": "code",
   "execution_count": 8,
   "metadata": {},
   "outputs": [
    {
     "data": {
      "text/plain": [
       "Index(['country', 'continent', 'year', 'lifeExp', 'pop', 'gdpPercap'], dtype='object')"
      ]
     },
     "execution_count": 8,
     "metadata": {},
     "output_type": "execute_result"
    }
   ],
   "source": [
    "df.columns"
   ]
  },
  {
   "cell_type": "code",
   "execution_count": 9,
   "metadata": {},
   "outputs": [
    {
     "data": {
      "text/plain": [
       "country       object\n",
       "continent     object\n",
       "year           int64\n",
       "lifeExp      float64\n",
       "pop            int64\n",
       "gdpPercap    float64\n",
       "dtype: object"
      ]
     },
     "execution_count": 9,
     "metadata": {},
     "output_type": "execute_result"
    }
   ],
   "source": [
    "df.dtypes"
   ]
  },
  {
   "cell_type": "code",
   "execution_count": 10,
   "metadata": {},
   "outputs": [
    {
     "name": "stdout",
     "output_type": "stream",
     "text": [
      "<class 'pandas.core.frame.DataFrame'>\n",
      "RangeIndex: 1704 entries, 0 to 1703\n",
      "Data columns (total 6 columns):\n",
      " #   Column     Non-Null Count  Dtype  \n",
      "---  ------     --------------  -----  \n",
      " 0   country    1704 non-null   object \n",
      " 1   continent  1704 non-null   object \n",
      " 2   year       1704 non-null   int64  \n",
      " 3   lifeExp    1704 non-null   float64\n",
      " 4   pop        1704 non-null   int64  \n",
      " 5   gdpPercap  1704 non-null   float64\n",
      "dtypes: float64(2), int64(2), object(2)\n",
      "memory usage: 80.0+ KB\n"
     ]
    }
   ],
   "source": [
    "df.info()"
   ]
  },
  {
   "cell_type": "code",
   "execution_count": 27,
   "metadata": {},
   "outputs": [
    {
     "data": {
      "text/html": [
       "<div>\n",
       "<style scoped>\n",
       "    .dataframe tbody tr th:only-of-type {\n",
       "        vertical-align: middle;\n",
       "    }\n",
       "\n",
       "    .dataframe tbody tr th {\n",
       "        vertical-align: top;\n",
       "    }\n",
       "\n",
       "    .dataframe thead th {\n",
       "        text-align: right;\n",
       "    }\n",
       "</style>\n",
       "<table border=\"1\" class=\"dataframe\">\n",
       "  <thead>\n",
       "    <tr style=\"text-align: right;\">\n",
       "      <th></th>\n",
       "      <th>country</th>\n",
       "      <th>continent</th>\n",
       "      <th>year</th>\n",
       "      <th>lifeExp</th>\n",
       "      <th>pop</th>\n",
       "      <th>gdpPercap</th>\n",
       "    </tr>\n",
       "  </thead>\n",
       "  <tbody>\n",
       "    <tr>\n",
       "      <th>0</th>\n",
       "      <td>Afghanistan</td>\n",
       "      <td>Asia</td>\n",
       "      <td>1952</td>\n",
       "      <td>28.801</td>\n",
       "      <td>8425333</td>\n",
       "      <td>779.445314</td>\n",
       "    </tr>\n",
       "    <tr>\n",
       "      <th>1</th>\n",
       "      <td>Afghanistan</td>\n",
       "      <td>Asia</td>\n",
       "      <td>1957</td>\n",
       "      <td>30.332</td>\n",
       "      <td>9240934</td>\n",
       "      <td>820.853030</td>\n",
       "    </tr>\n",
       "    <tr>\n",
       "      <th>2</th>\n",
       "      <td>Afghanistan</td>\n",
       "      <td>Asia</td>\n",
       "      <td>1962</td>\n",
       "      <td>31.997</td>\n",
       "      <td>10267083</td>\n",
       "      <td>853.100710</td>\n",
       "    </tr>\n",
       "    <tr>\n",
       "      <th>3</th>\n",
       "      <td>Afghanistan</td>\n",
       "      <td>Asia</td>\n",
       "      <td>1967</td>\n",
       "      <td>34.020</td>\n",
       "      <td>11537966</td>\n",
       "      <td>836.197138</td>\n",
       "    </tr>\n",
       "    <tr>\n",
       "      <th>4</th>\n",
       "      <td>Afghanistan</td>\n",
       "      <td>Asia</td>\n",
       "      <td>1972</td>\n",
       "      <td>36.088</td>\n",
       "      <td>13079460</td>\n",
       "      <td>739.981106</td>\n",
       "    </tr>\n",
       "    <tr>\n",
       "      <th>...</th>\n",
       "      <td>...</td>\n",
       "      <td>...</td>\n",
       "      <td>...</td>\n",
       "      <td>...</td>\n",
       "      <td>...</td>\n",
       "      <td>...</td>\n",
       "    </tr>\n",
       "    <tr>\n",
       "      <th>1699</th>\n",
       "      <td>Zimbabwe</td>\n",
       "      <td>Africa</td>\n",
       "      <td>1987</td>\n",
       "      <td>62.351</td>\n",
       "      <td>9216418</td>\n",
       "      <td>706.157306</td>\n",
       "    </tr>\n",
       "    <tr>\n",
       "      <th>1700</th>\n",
       "      <td>Zimbabwe</td>\n",
       "      <td>Africa</td>\n",
       "      <td>1992</td>\n",
       "      <td>60.377</td>\n",
       "      <td>10704340</td>\n",
       "      <td>693.420786</td>\n",
       "    </tr>\n",
       "    <tr>\n",
       "      <th>1701</th>\n",
       "      <td>Zimbabwe</td>\n",
       "      <td>Africa</td>\n",
       "      <td>1997</td>\n",
       "      <td>46.809</td>\n",
       "      <td>11404948</td>\n",
       "      <td>792.449960</td>\n",
       "    </tr>\n",
       "    <tr>\n",
       "      <th>1702</th>\n",
       "      <td>Zimbabwe</td>\n",
       "      <td>Africa</td>\n",
       "      <td>2002</td>\n",
       "      <td>39.989</td>\n",
       "      <td>11926563</td>\n",
       "      <td>672.038623</td>\n",
       "    </tr>\n",
       "    <tr>\n",
       "      <th>1703</th>\n",
       "      <td>Zimbabwe</td>\n",
       "      <td>Africa</td>\n",
       "      <td>2007</td>\n",
       "      <td>43.487</td>\n",
       "      <td>12311143</td>\n",
       "      <td>469.709298</td>\n",
       "    </tr>\n",
       "  </tbody>\n",
       "</table>\n",
       "<p>1704 rows × 6 columns</p>\n",
       "</div>"
      ],
      "text/plain": [
       "          country continent  year  lifeExp       pop   gdpPercap\n",
       "0     Afghanistan      Asia  1952   28.801   8425333  779.445314\n",
       "1     Afghanistan      Asia  1957   30.332   9240934  820.853030\n",
       "2     Afghanistan      Asia  1962   31.997  10267083  853.100710\n",
       "3     Afghanistan      Asia  1967   34.020  11537966  836.197138\n",
       "4     Afghanistan      Asia  1972   36.088  13079460  739.981106\n",
       "...           ...       ...   ...      ...       ...         ...\n",
       "1699     Zimbabwe    Africa  1987   62.351   9216418  706.157306\n",
       "1700     Zimbabwe    Africa  1992   60.377  10704340  693.420786\n",
       "1701     Zimbabwe    Africa  1997   46.809  11404948  792.449960\n",
       "1702     Zimbabwe    Africa  2002   39.989  11926563  672.038623\n",
       "1703     Zimbabwe    Africa  2007   43.487  12311143  469.709298\n",
       "\n",
       "[1704 rows x 6 columns]"
      ]
     },
     "execution_count": 27,
     "metadata": {},
     "output_type": "execute_result"
    }
   ],
   "source": [
    "country_df=df['country']\n",
    "df"
   ]
  },
  {
   "cell_type": "code",
   "execution_count": 40,
   "metadata": {},
   "outputs": [
    {
     "data": {
      "text/plain": [
       "0       28.801\n",
       "1       30.332\n",
       "2       31.997\n",
       "3       34.020\n",
       "4       36.088\n",
       "         ...  \n",
       "1699    62.351\n",
       "1700    60.377\n",
       "1701    46.809\n",
       "1702    39.989\n",
       "1703    43.487\n",
       "Name: lifeExp, Length: 1704, dtype: float64"
      ]
     },
     "execution_count": 40,
     "metadata": {},
     "output_type": "execute_result"
    }
   ],
   "source": [
    "df.lifeExp"
   ]
  },
  {
   "cell_type": "code",
   "execution_count": 41,
   "metadata": {},
   "outputs": [
    {
     "data": {
      "text/html": [
       "<div>\n",
       "<style scoped>\n",
       "    .dataframe tbody tr th:only-of-type {\n",
       "        vertical-align: middle;\n",
       "    }\n",
       "\n",
       "    .dataframe tbody tr th {\n",
       "        vertical-align: top;\n",
       "    }\n",
       "\n",
       "    .dataframe thead th {\n",
       "        text-align: right;\n",
       "    }\n",
       "</style>\n",
       "<table border=\"1\" class=\"dataframe\">\n",
       "  <thead>\n",
       "    <tr style=\"text-align: right;\">\n",
       "      <th></th>\n",
       "      <th>country</th>\n",
       "      <th>year</th>\n",
       "    </tr>\n",
       "  </thead>\n",
       "  <tbody>\n",
       "    <tr>\n",
       "      <th>0</th>\n",
       "      <td>Afghanistan</td>\n",
       "      <td>1952</td>\n",
       "    </tr>\n",
       "    <tr>\n",
       "      <th>1</th>\n",
       "      <td>Afghanistan</td>\n",
       "      <td>1957</td>\n",
       "    </tr>\n",
       "    <tr>\n",
       "      <th>2</th>\n",
       "      <td>Afghanistan</td>\n",
       "      <td>1962</td>\n",
       "    </tr>\n",
       "    <tr>\n",
       "      <th>3</th>\n",
       "      <td>Afghanistan</td>\n",
       "      <td>1967</td>\n",
       "    </tr>\n",
       "    <tr>\n",
       "      <th>4</th>\n",
       "      <td>Afghanistan</td>\n",
       "      <td>1972</td>\n",
       "    </tr>\n",
       "    <tr>\n",
       "      <th>...</th>\n",
       "      <td>...</td>\n",
       "      <td>...</td>\n",
       "    </tr>\n",
       "    <tr>\n",
       "      <th>1699</th>\n",
       "      <td>Zimbabwe</td>\n",
       "      <td>1987</td>\n",
       "    </tr>\n",
       "    <tr>\n",
       "      <th>1700</th>\n",
       "      <td>Zimbabwe</td>\n",
       "      <td>1992</td>\n",
       "    </tr>\n",
       "    <tr>\n",
       "      <th>1701</th>\n",
       "      <td>Zimbabwe</td>\n",
       "      <td>1997</td>\n",
       "    </tr>\n",
       "    <tr>\n",
       "      <th>1702</th>\n",
       "      <td>Zimbabwe</td>\n",
       "      <td>2002</td>\n",
       "    </tr>\n",
       "    <tr>\n",
       "      <th>1703</th>\n",
       "      <td>Zimbabwe</td>\n",
       "      <td>2007</td>\n",
       "    </tr>\n",
       "  </tbody>\n",
       "</table>\n",
       "<p>1704 rows × 2 columns</p>\n",
       "</div>"
      ],
      "text/plain": [
       "          country  year\n",
       "0     Afghanistan  1952\n",
       "1     Afghanistan  1957\n",
       "2     Afghanistan  1962\n",
       "3     Afghanistan  1967\n",
       "4     Afghanistan  1972\n",
       "...           ...   ...\n",
       "1699     Zimbabwe  1987\n",
       "1700     Zimbabwe  1992\n",
       "1701     Zimbabwe  1997\n",
       "1702     Zimbabwe  2002\n",
       "1703     Zimbabwe  2007\n",
       "\n",
       "[1704 rows x 2 columns]"
      ]
     },
     "execution_count": 41,
     "metadata": {},
     "output_type": "execute_result"
    }
   ],
   "source": [
    "df[['country','year']] #Subset of a list of headers"
   ]
  },
  {
   "cell_type": "code",
   "execution_count": 3,
   "metadata": {},
   "outputs": [
    {
     "name": "stdout",
     "output_type": "stream",
     "text": [
      "0    Asia\n",
      "1    Asia\n",
      "2    Asia\n",
      "3    Asia\n",
      "4    Asia\n",
      "Name: continent, dtype: object\n"
     ]
    }
   ],
   "source": [
    "subset=df['continent']\n",
    "print(subset.head())"
   ]
  },
  {
   "cell_type": "code",
   "execution_count": 21,
   "metadata": {},
   "outputs": [
    {
     "data": {
      "text/html": [
       "<div>\n",
       "<style scoped>\n",
       "    .dataframe tbody tr th:only-of-type {\n",
       "        vertical-align: middle;\n",
       "    }\n",
       "\n",
       "    .dataframe tbody tr th {\n",
       "        vertical-align: top;\n",
       "    }\n",
       "\n",
       "    .dataframe thead th {\n",
       "        text-align: right;\n",
       "    }\n",
       "</style>\n",
       "<table border=\"1\" class=\"dataframe\">\n",
       "  <thead>\n",
       "    <tr style=\"text-align: right;\">\n",
       "      <th></th>\n",
       "      <th>country</th>\n",
       "      <th>pop</th>\n",
       "    </tr>\n",
       "  </thead>\n",
       "  <tbody>\n",
       "    <tr>\n",
       "      <th>3</th>\n",
       "      <td>Afghanistan</td>\n",
       "      <td>11537966</td>\n",
       "    </tr>\n",
       "    <tr>\n",
       "      <th>6</th>\n",
       "      <td>Afghanistan</td>\n",
       "      <td>12881816</td>\n",
       "    </tr>\n",
       "    <tr>\n",
       "      <th>9</th>\n",
       "      <td>Afghanistan</td>\n",
       "      <td>22227415</td>\n",
       "    </tr>\n",
       "    <tr>\n",
       "      <th>12</th>\n",
       "      <td>Albania</td>\n",
       "      <td>1282697</td>\n",
       "    </tr>\n",
       "    <tr>\n",
       "      <th>15</th>\n",
       "      <td>Albania</td>\n",
       "      <td>1984060</td>\n",
       "    </tr>\n",
       "    <tr>\n",
       "      <th>18</th>\n",
       "      <td>Albania</td>\n",
       "      <td>2780097</td>\n",
       "    </tr>\n",
       "    <tr>\n",
       "      <th>21</th>\n",
       "      <td>Albania</td>\n",
       "      <td>3428038</td>\n",
       "    </tr>\n",
       "    <tr>\n",
       "      <th>24</th>\n",
       "      <td>Algeria</td>\n",
       "      <td>9279525</td>\n",
       "    </tr>\n",
       "  </tbody>\n",
       "</table>\n",
       "</div>"
      ],
      "text/plain": [
       "        country       pop\n",
       "3   Afghanistan  11537966\n",
       "6   Afghanistan  12881816\n",
       "9   Afghanistan  22227415\n",
       "12      Albania   1282697\n",
       "15      Albania   1984060\n",
       "18      Albania   2780097\n",
       "21      Albania   3428038\n",
       "24      Algeria   9279525"
      ]
     },
     "execution_count": 21,
     "metadata": {},
     "output_type": "execute_result"
    }
   ],
   "source": [
    "small=list(range(3,25,3))\n",
    "subset=df.iloc [small,[0,4]]\n",
    "subset"
   ]
  },
  {
   "cell_type": "code",
   "execution_count": 31,
   "metadata": {},
   "outputs": [
    {
     "name": "stdout",
     "output_type": "stream",
     "text": [
      "country      Zimbabwe\n",
      "continent      Africa\n",
      "year             2007\n",
      "lifeExp        43.487\n",
      "pop          12311143\n",
      "gdpPercap     469.709\n",
      "Name: 1703, dtype: object\n",
      "\n",
      "<class 'pandas.core.series.Series'>\n"
     ]
    }
   ],
   "source": [
    "last_row=df.shape[0]-1\n",
    "loc_com=df.loc[last_row]\n",
    "print(loc_com)\n",
    "print('')\n",
    "print(type(loc_com))"
   ]
  },
  {
   "cell_type": "code",
   "execution_count": 32,
   "metadata": {},
   "outputs": [
    {
     "name": "stdout",
     "output_type": "stream",
     "text": [
      "       country continent  year  lifeExp       pop   gdpPercap\n",
      "1703  Zimbabwe    Africa  2007   43.487  12311143  469.709298\n",
      "\n",
      "<class 'pandas.core.frame.DataFrame'>\n"
     ]
    }
   ],
   "source": [
    "tail_com=df.tail(n=1)\n",
    "print(tail_com)\n",
    "print('')\n",
    "print(type(tail_com))"
   ]
  },
  {
   "cell_type": "code",
   "execution_count": null,
   "metadata": {},
   "outputs": [],
   "source": [
    "#Difference between loc and iloc is :\n",
    "\n",
    "    # Loc searches for that name in index column\n",
    "    # iloc searches for actual indexing\n",
    "    \n",
    "    \n",
    "#there is a hybrid command called df.ix . it first behaves like loc and if it doesnt find a index name , it will behave as iloc"
   ]
  },
  {
   "cell_type": "code",
   "execution_count": 35,
   "metadata": {},
   "outputs": [
    {
     "name": "stdout",
     "output_type": "stream",
     "text": [
      "Argentina\n"
     ]
    }
   ],
   "source": [
    "print(df.iloc[56,0])"
   ]
  },
  {
   "cell_type": "code",
   "execution_count": 36,
   "metadata": {},
   "outputs": [
    {
     "name": "stdout",
     "output_type": "stream",
     "text": [
      "          country continent  year  lifeExp       pop   gdpPercap\n",
      "0     Afghanistan      Asia  1952   28.801   8425333  779.445314\n",
      "1     Afghanistan      Asia  1957   30.332   9240934  820.853030\n",
      "2     Afghanistan      Asia  1962   31.997  10267083  853.100710\n",
      "3     Afghanistan      Asia  1967   34.020  11537966  836.197138\n",
      "4     Afghanistan      Asia  1972   36.088  13079460  739.981106\n",
      "...           ...       ...   ...      ...       ...         ...\n",
      "1699     Zimbabwe    Africa  1987   62.351   9216418  706.157306\n",
      "1700     Zimbabwe    Africa  1992   60.377  10704340  693.420786\n",
      "1701     Zimbabwe    Africa  1997   46.809  11404948  792.449960\n",
      "1702     Zimbabwe    Africa  2002   39.989  11926563  672.038623\n",
      "1703     Zimbabwe    Africa  2007   43.487  12311143  469.709298\n",
      "\n",
      "[1704 rows x 6 columns]\n"
     ]
    }
   ],
   "source": [
    "print(df)"
   ]
  },
  {
   "cell_type": "code",
   "execution_count": 39,
   "metadata": {},
   "outputs": [
    {
     "name": "stdout",
     "output_type": "stream",
     "text": [
      "country      Albania\n",
      "continent     Europe\n",
      "year            1967\n",
      "lifeExp        66.22\n",
      "pop          1984060\n",
      "gdpPercap     2760.2\n",
      "Name: 15, dtype: object\n"
     ]
    }
   ],
   "source": [
    "print(df.loc[15])"
   ]
  },
  {
   "cell_type": "code",
   "execution_count": 3,
   "metadata": {},
   "outputs": [
    {
     "name": "stdout",
     "output_type": "stream",
     "text": [
      "[(1952,                  country continent  year  lifeExp       pop    gdpPercap\n",
      "0            Afghanistan      Asia  1952   28.801   8425333   779.445314\n",
      "12               Albania    Europe  1952   55.230   1282697  1601.056136\n",
      "24               Algeria    Africa  1952   43.077   9279525  2449.008185\n",
      "36                Angola    Africa  1952   30.015   4232095  3520.610273\n",
      "48             Argentina  Americas  1952   62.485  17876956  5911.315053\n",
      "...                  ...       ...   ...      ...       ...          ...\n",
      "1644             Vietnam      Asia  1952   40.412  26246839   605.066492\n",
      "1656  West Bank and Gaza      Asia  1952   43.160   1030585  1515.592329\n",
      "1668         Yemen, Rep.      Asia  1952   32.548   4963829   781.717576\n",
      "1680              Zambia    Africa  1952   42.038   2672000  1147.388831\n",
      "1692            Zimbabwe    Africa  1952   48.451   3080907   406.884115\n",
      "\n",
      "[142 rows x 6 columns]), (1957,                  country continent  year  lifeExp       pop    gdpPercap\n",
      "1            Afghanistan      Asia  1957   30.332   9240934   820.853030\n",
      "13               Albania    Europe  1957   59.280   1476505  1942.284244\n",
      "25               Algeria    Africa  1957   45.685  10270856  3013.976023\n",
      "37                Angola    Africa  1957   31.999   4561361  3827.940465\n",
      "49             Argentina  Americas  1957   64.399  19610538  6856.856212\n",
      "...                  ...       ...   ...      ...       ...          ...\n",
      "1645             Vietnam      Asia  1957   42.887  28998543   676.285448\n",
      "1657  West Bank and Gaza      Asia  1957   45.671   1070439  1827.067742\n",
      "1669         Yemen, Rep.      Asia  1957   33.970   5498090   804.830455\n",
      "1681              Zambia    Africa  1957   44.077   3016000  1311.956766\n",
      "1693            Zimbabwe    Africa  1957   50.469   3646340   518.764268\n",
      "\n",
      "[142 rows x 6 columns]), (1962,                  country continent  year  lifeExp       pop    gdpPercap\n",
      "2            Afghanistan      Asia  1962   31.997  10267083   853.100710\n",
      "14               Albania    Europe  1962   64.820   1728137  2312.888958\n",
      "26               Algeria    Africa  1962   48.303  11000948  2550.816880\n",
      "38                Angola    Africa  1962   34.000   4826015  4269.276742\n",
      "50             Argentina  Americas  1962   65.142  21283783  7133.166023\n",
      "...                  ...       ...   ...      ...       ...          ...\n",
      "1646             Vietnam      Asia  1962   45.363  33796140   772.049160\n",
      "1658  West Bank and Gaza      Asia  1962   48.127   1133134  2198.956312\n",
      "1670         Yemen, Rep.      Asia  1962   35.180   6120081   825.623201\n",
      "1682              Zambia    Africa  1962   46.023   3421000  1452.725766\n",
      "1694            Zimbabwe    Africa  1962   52.358   4277736   527.272182\n",
      "\n",
      "[142 rows x 6 columns]), (1967,                  country continent  year  lifeExp       pop    gdpPercap\n",
      "3            Afghanistan      Asia  1967   34.020  11537966   836.197138\n",
      "15               Albania    Europe  1967   66.220   1984060  2760.196931\n",
      "27               Algeria    Africa  1967   51.407  12760499  3246.991771\n",
      "39                Angola    Africa  1967   35.985   5247469  5522.776375\n",
      "51             Argentina  Americas  1967   65.634  22934225  8052.953021\n",
      "...                  ...       ...   ...      ...       ...          ...\n",
      "1647             Vietnam      Asia  1967   47.838  39463910   637.123289\n",
      "1659  West Bank and Gaza      Asia  1967   51.631   1142636  2649.715007\n",
      "1671         Yemen, Rep.      Asia  1967   36.984   6740785   862.442146\n",
      "1683              Zambia    Africa  1967   47.768   3900000  1777.077318\n",
      "1695            Zimbabwe    Africa  1967   53.995   4995432   569.795071\n",
      "\n",
      "[142 rows x 6 columns]), (1972,                  country continent  year  lifeExp       pop    gdpPercap\n",
      "4            Afghanistan      Asia  1972   36.088  13079460   739.981106\n",
      "16               Albania    Europe  1972   67.690   2263554  3313.422188\n",
      "28               Algeria    Africa  1972   54.518  14760787  4182.663766\n",
      "40                Angola    Africa  1972   37.928   5894858  5473.288005\n",
      "52             Argentina  Americas  1972   67.065  24779799  9443.038526\n",
      "...                  ...       ...   ...      ...       ...          ...\n",
      "1648             Vietnam      Asia  1972   50.254  44655014   699.501644\n",
      "1660  West Bank and Gaza      Asia  1972   56.532   1089572  3133.409277\n",
      "1672         Yemen, Rep.      Asia  1972   39.848   7407075  1265.047031\n",
      "1684              Zambia    Africa  1972   50.107   4506497  1773.498265\n",
      "1696            Zimbabwe    Africa  1972   55.635   5861135   799.362176\n",
      "\n",
      "[142 rows x 6 columns]), (1977,                  country continent  year  lifeExp       pop     gdpPercap\n",
      "5            Afghanistan      Asia  1977   38.438  14880372    786.113360\n",
      "17               Albania    Europe  1977   68.930   2509048   3533.003910\n",
      "29               Algeria    Africa  1977   58.014  17152804   4910.416756\n",
      "41                Angola    Africa  1977   39.483   6162675   3008.647355\n",
      "53             Argentina  Americas  1977   68.481  26983828  10079.026740\n",
      "...                  ...       ...   ...      ...       ...           ...\n",
      "1649             Vietnam      Asia  1977   55.764  50533506    713.537120\n",
      "1661  West Bank and Gaza      Asia  1977   60.765   1261091   3682.831494\n",
      "1673         Yemen, Rep.      Asia  1977   44.175   8403990   1829.765177\n",
      "1685              Zambia    Africa  1977   51.386   5216550   1588.688299\n",
      "1697            Zimbabwe    Africa  1977   57.674   6642107    685.587682\n",
      "\n",
      "[142 rows x 6 columns]), (1982,                  country continent  year  lifeExp       pop    gdpPercap\n",
      "6            Afghanistan      Asia  1982   39.854  12881816   978.011439\n",
      "18               Albania    Europe  1982   70.420   2780097  3630.880722\n",
      "30               Algeria    Africa  1982   61.368  20033753  5745.160213\n",
      "42                Angola    Africa  1982   39.942   7016384  2756.953672\n",
      "54             Argentina  Americas  1982   69.942  29341374  8997.897412\n",
      "...                  ...       ...   ...      ...       ...          ...\n",
      "1650             Vietnam      Asia  1982   58.816  56142181   707.235786\n",
      "1662  West Bank and Gaza      Asia  1982   64.406   1425876  4336.032082\n",
      "1674         Yemen, Rep.      Asia  1982   49.113   9657618  1977.557010\n",
      "1686              Zambia    Africa  1982   51.821   6100407  1408.678565\n",
      "1698            Zimbabwe    Africa  1982   60.363   7636524   788.855041\n",
      "\n",
      "[142 rows x 6 columns]), (1987,                  country continent  year  lifeExp       pop    gdpPercap\n",
      "7            Afghanistan      Asia  1987   40.822  13867957   852.395945\n",
      "19               Albania    Europe  1987   72.000   3075321  3738.932735\n",
      "31               Algeria    Africa  1987   65.799  23254956  5681.358539\n",
      "43                Angola    Africa  1987   39.906   7874230  2430.208311\n",
      "55             Argentina  Americas  1987   70.774  31620918  9139.671389\n",
      "...                  ...       ...   ...      ...       ...          ...\n",
      "1651             Vietnam      Asia  1987   62.820  62826491   820.799445\n",
      "1663  West Bank and Gaza      Asia  1987   67.046   1691210  5107.197384\n",
      "1675         Yemen, Rep.      Asia  1987   52.922  11219340  1971.741538\n",
      "1687              Zambia    Africa  1987   50.821   7272406  1213.315116\n",
      "1699            Zimbabwe    Africa  1987   62.351   9216418   706.157306\n",
      "\n",
      "[142 rows x 6 columns]), (1992,                  country continent  year  lifeExp       pop    gdpPercap\n",
      "8            Afghanistan      Asia  1992   41.674  16317921   649.341395\n",
      "20               Albania    Europe  1992   71.581   3326498  2497.437901\n",
      "32               Algeria    Africa  1992   67.744  26298373  5023.216647\n",
      "44                Angola    Africa  1992   40.647   8735988  2627.845685\n",
      "56             Argentina  Americas  1992   71.868  33958947  9308.418710\n",
      "...                  ...       ...   ...      ...       ...          ...\n",
      "1652             Vietnam      Asia  1992   67.662  69940728   989.023149\n",
      "1664  West Bank and Gaza      Asia  1992   69.718   2104779  6017.654756\n",
      "1676         Yemen, Rep.      Asia  1992   55.599  13367997  1879.496673\n",
      "1688              Zambia    Africa  1992   46.100   8381163  1210.884633\n",
      "1700            Zimbabwe    Africa  1992   60.377  10704340   693.420786\n",
      "\n",
      "[142 rows x 6 columns]), (1997,                  country continent  year  lifeExp       pop     gdpPercap\n",
      "9            Afghanistan      Asia  1997   41.763  22227415    635.341351\n",
      "21               Albania    Europe  1997   72.950   3428038   3193.054604\n",
      "33               Algeria    Africa  1997   69.152  29072015   4797.295051\n",
      "45                Angola    Africa  1997   40.963   9875024   2277.140884\n",
      "57             Argentina  Americas  1997   73.275  36203463  10967.281950\n",
      "...                  ...       ...   ...      ...       ...           ...\n",
      "1653             Vietnam      Asia  1997   70.672  76048996   1385.896769\n",
      "1665  West Bank and Gaza      Asia  1997   71.096   2826046   7110.667619\n",
      "1677         Yemen, Rep.      Asia  1997   58.020  15826497   2117.484526\n",
      "1689              Zambia    Africa  1997   40.238   9417789   1071.353818\n",
      "1701            Zimbabwe    Africa  1997   46.809  11404948    792.449960\n",
      "\n",
      "[142 rows x 6 columns]), (2002,                  country continent  year  lifeExp       pop    gdpPercap\n",
      "10           Afghanistan      Asia  2002   42.129  25268405   726.734055\n",
      "22               Albania    Europe  2002   75.651   3508512  4604.211737\n",
      "34               Algeria    Africa  2002   70.994  31287142  5288.040382\n",
      "46                Angola    Africa  2002   41.003  10866106  2773.287312\n",
      "58             Argentina  Americas  2002   74.340  38331121  8797.640716\n",
      "...                  ...       ...   ...      ...       ...          ...\n",
      "1654             Vietnam      Asia  2002   73.017  80908147  1764.456677\n",
      "1666  West Bank and Gaza      Asia  2002   72.370   3389578  4515.487575\n",
      "1678         Yemen, Rep.      Asia  2002   60.308  18701257  2234.820827\n",
      "1690              Zambia    Africa  2002   39.193  10595811  1071.613938\n",
      "1702            Zimbabwe    Africa  2002   39.989  11926563   672.038623\n",
      "\n",
      "[142 rows x 6 columns]), (2007,                  country continent  year  lifeExp       pop     gdpPercap\n",
      "11           Afghanistan      Asia  2007   43.828  31889923    974.580338\n",
      "23               Albania    Europe  2007   76.423   3600523   5937.029526\n",
      "35               Algeria    Africa  2007   72.301  33333216   6223.367465\n",
      "47                Angola    Africa  2007   42.731  12420476   4797.231267\n",
      "59             Argentina  Americas  2007   75.320  40301927  12779.379640\n",
      "...                  ...       ...   ...      ...       ...           ...\n",
      "1655             Vietnam      Asia  2007   74.249  85262356   2441.576404\n",
      "1667  West Bank and Gaza      Asia  2007   73.422   4018332   3025.349798\n",
      "1679         Yemen, Rep.      Asia  2007   62.698  22211743   2280.769906\n",
      "1691              Zambia    Africa  2007   42.384  11746035   1271.211593\n",
      "1703            Zimbabwe    Africa  2007   43.487  12311143    469.709298\n",
      "\n",
      "[142 rows x 6 columns])]\n"
     ]
    }
   ],
   "source": [
    "year=df.groupby('year')\n",
    "print(list(year))"
   ]
  },
  {
   "cell_type": "code",
   "execution_count": 8,
   "metadata": {},
   "outputs": [
    {
     "name": "stdout",
     "output_type": "stream",
     "text": [
      "<pandas.core.groupby.generic.SeriesGroupBy object at 0x0000014878629460>\n"
     ]
    }
   ],
   "source": [
    "exp=year['lifeExp']\n",
    "print(exp)"
   ]
  },
  {
   "cell_type": "code",
   "execution_count": 9,
   "metadata": {},
   "outputs": [
    {
     "data": {
      "text/plain": [
       "year\n",
       "1952    49.057620\n",
       "1957    51.507401\n",
       "1962    53.609249\n",
       "1967    55.678290\n",
       "1972    57.647386\n",
       "1977    59.570157\n",
       "1982    61.533197\n",
       "1987    63.212613\n",
       "1992    64.160338\n",
       "1997    65.014676\n",
       "2002    65.694923\n",
       "2007    67.007423\n",
       "Name: lifeExp, dtype: float64"
      ]
     },
     "execution_count": 9,
     "metadata": {},
     "output_type": "execute_result"
    }
   ],
   "source": [
    "output1=exp.mean()\n",
    "output1"
   ]
  },
  {
   "cell_type": "code",
   "execution_count": 13,
   "metadata": {},
   "outputs": [
    {
     "name": "stdout",
     "output_type": "stream",
     "text": [
      "                  lifeExp     gdpPercap\n",
      "year continent                         \n",
      "1952 Africa     39.135500   1252.572466\n",
      "     Americas   53.279840   4079.062552\n",
      "     Asia       46.314394   5195.484004\n",
      "     Europe     64.408500   5661.057435\n",
      "     Oceania    69.255000  10298.085650\n",
      "1957 Africa     41.266346   1385.236062\n",
      "     Americas   55.960280   4616.043733\n",
      "     Asia       49.318544   5787.732940\n",
      "     Europe     66.703067   6963.012816\n",
      "     Oceania    70.295000  11598.522455\n",
      "1962 Africa     43.319442   1598.078825\n",
      "     Americas   58.398760   4901.541870\n",
      "     Asia       51.563223   5729.369625\n",
      "     Europe     68.539233   8365.486814\n",
      "     Oceania    71.085000  12696.452430\n",
      "1967 Africa     45.334538   2050.363801\n",
      "     Americas   60.410920   5668.253496\n",
      "     Asia       54.663640   5971.173374\n",
      "     Europe     69.737600  10143.823757\n",
      "     Oceania    71.310000  14495.021790\n",
      "1972 Africa     47.450942   2339.615674\n",
      "     Americas   62.394920   6491.334139\n",
      "     Asia       57.319269   8187.468699\n",
      "     Europe     70.775033  12479.575246\n",
      "     Oceania    71.910000  16417.333380\n",
      "1977 Africa     49.580423   2585.938508\n",
      "     Americas   64.391560   7352.007126\n",
      "     Asia       59.610556   7791.314020\n",
      "     Europe     71.937767  14283.979110\n",
      "     Oceania    72.855000  17283.957605\n",
      "1982 Africa     51.592865   2481.592960\n",
      "     Americas   66.228840   7506.737088\n",
      "     Asia       62.617939   7434.135157\n",
      "     Europe     72.806400  15617.896551\n",
      "     Oceania    74.290000  18554.709840\n",
      "1987 Africa     53.344788   2282.668991\n",
      "     Americas   68.090720   7793.400261\n",
      "     Asia       64.851182   7608.226508\n",
      "     Europe     73.642167  17214.310727\n",
      "     Oceania    75.320000  20448.040160\n",
      "1992 Africa     53.629577   2281.810333\n",
      "     Americas   69.568360   8044.934406\n",
      "     Asia       66.537212   8639.690248\n",
      "     Europe     74.440100  17061.568084\n",
      "     Oceania    76.945000  20894.045885\n",
      "1997 Africa     53.598269   2378.759555\n",
      "     Americas   71.150480   8889.300863\n",
      "     Asia       68.020515   9834.093295\n",
      "     Europe     75.505167  19076.781802\n",
      "     Oceania    78.190000  24024.175170\n",
      "2002 Africa     53.325231   2599.385159\n",
      "     Americas   72.422040   9287.677107\n",
      "     Asia       69.233879  10174.090397\n",
      "     Europe     76.700600  21711.732422\n",
      "     Oceania    79.740000  26938.778040\n",
      "2007 Africa     54.806038   3089.032605\n",
      "     Americas   73.608120  11003.031625\n",
      "     Asia       70.728485  12473.026870\n",
      "     Europe     77.648600  25054.481636\n",
      "     Oceania    80.719500  29810.188275\n"
     ]
    }
   ],
   "source": [
    "output=df.groupby(['year','continent'])[['lifeExp','gdpPercap']].mean()\n",
    "print(output)"
   ]
  },
  {
   "cell_type": "code",
   "execution_count": 15,
   "metadata": {},
   "outputs": [
    {
     "data": {
      "text/plain": [
       "<matplotlib.axes._subplots.AxesSubplot at 0x1487924f4c0>"
      ]
     },
     "execution_count": 15,
     "metadata": {},
     "output_type": "execute_result"
    },
    {
     "data": {
      "image/png": "[encoded data removed]",
      "text/plain": [
       "<Figure size 432x288 with 1 Axes>"
      ]
     },
     "metadata": {
      "needs_background": "light"
     },
     "output_type": "display_data"
    }
   ],
   "source": [
    "import matplotlib.pyplot as plt\n",
    "yearly_lifeExp=df.groupby('year')['lifeExp'].mean()\n",
    "yearly_lifeExp.plot()"
   ]
  },
  {
   "cell_type": "code",
   "execution_count": 2,
   "metadata": {},
   "outputs": [
    {
     "data": {
      "text/html": [
       "<div>\n",
       "<style scoped>\n",
       "    .dataframe tbody tr th:only-of-type {\n",
       "        vertical-align: middle;\n",
       "    }\n",
       "\n",
       "    .dataframe tbody tr th {\n",
       "        vertical-align: top;\n",
       "    }\n",
       "\n",
       "    .dataframe thead th {\n",
       "        text-align: right;\n",
       "    }\n",
       "</style>\n",
       "<table border=\"1\" class=\"dataframe\">\n",
       "  <thead>\n",
       "    <tr style=\"text-align: right;\">\n",
       "      <th></th>\n",
       "      <th>Name</th>\n",
       "      <th>Occupation</th>\n",
       "      <th>Age</th>\n",
       "    </tr>\n",
       "  </thead>\n",
       "  <tbody>\n",
       "    <tr>\n",
       "      <th>0</th>\n",
       "      <td>Rose</td>\n",
       "      <td>doctor</td>\n",
       "      <td>25</td>\n",
       "    </tr>\n",
       "    <tr>\n",
       "      <th>1</th>\n",
       "      <td>Lilias</td>\n",
       "      <td>scientist</td>\n",
       "      <td>45</td>\n",
       "    </tr>\n",
       "    <tr>\n",
       "      <th>2</th>\n",
       "      <td>Elena</td>\n",
       "      <td>Teacher</td>\n",
       "      <td>34</td>\n",
       "    </tr>\n",
       "  </tbody>\n",
       "</table>\n",
       "</div>"
      ],
      "text/plain": [
       "     Name Occupation  Age\n",
       "0    Rose     doctor   25\n",
       "1  Lilias  scientist   45\n",
       "2   Elena    Teacher   34"
      ]
     },
     "execution_count": 2,
     "metadata": {},
     "output_type": "execute_result"
    }
   ],
   "source": [
    "#creating own dataframes\n",
    "\n",
    "import pandas as pd\n",
    "new=pd.DataFrame({'Name':['Rose','Lilias','Elena'],'Occupation':['doctor','scientist','Teacher'],'Age':[25,45,34]})\n",
    "new"
   ]
  },
  {
   "cell_type": "code",
   "execution_count": 6,
   "metadata": {},
   "outputs": [
    {
     "name": "stdout",
     "output_type": "stream",
     "text": [
      "                   Name        Born        Died  Age          Occupation\n",
      "0     Rosaline Franklin  1920-07-25  1958-04-16   37             Chemist\n",
      "1        William Gosset  1876-06-13  1937-10-16   61        Statistician\n",
      "2  Florence Nightingale  1820-05-12  1910-08-13   90               Nurse\n",
      "3           Marie Curie  1867-11-07  1934-07-04   66             Chemist\n",
      "4         Rachel Carson  1907-05-27  1964-04-14   56           Biologist\n",
      "5             John Snow  1813-03-15  1858-06-16   45           Physician\n",
      "6           Alan Turing  1912-06-23  1954-06-07   41  Computer Scientist\n",
      "7          Johann Gauss  1777-04-30  1855-02-23   77       Mathematician\n"
     ]
    }
   ],
   "source": [
    "sci=pd.read_csv('scientists.csv')\n",
    "print(sci)"
   ]
  },
  {
   "cell_type": "code",
   "execution_count": 11,
   "metadata": {},
   "outputs": [
    {
     "data": {
      "text/plain": [
       "59.125"
      ]
     },
     "execution_count": 11,
     "metadata": {},
     "output_type": "execute_result"
    }
   ],
   "source": [
    "ages=sci['Age']\n",
    "ages.mean()"
   ]
  },
  {
   "cell_type": "code",
   "execution_count": 14,
   "metadata": {},
   "outputs": [
    {
     "data": {
      "text/plain": [
       "count     8.000000\n",
       "mean     59.125000\n",
       "std      18.325918\n",
       "min      37.000000\n",
       "25%      44.000000\n",
       "50%      58.500000\n",
       "75%      68.750000\n",
       "max      90.000000\n",
       "Name: Age, dtype: float64"
      ]
     },
     "execution_count": 14,
     "metadata": {},
     "output_type": "execute_result"
    }
   ],
   "source": [
    "ages.describe()\n"
   ]
  },
  {
   "cell_type": "code",
   "execution_count": 21,
   "metadata": {},
   "outputs": [
    {
     "data": {
      "text/plain": [
       "0     74\n",
       "1    122\n",
       "2    180\n",
       "3    132\n",
       "4    112\n",
       "5     90\n",
       "6     82\n",
       "7    154\n",
       "Name: Age, dtype: int64"
      ]
     },
     "execution_count": 21,
     "metadata": {},
     "output_type": "execute_result"
    }
   ],
   "source": [
    "ages+ages"
   ]
  },
  {
   "cell_type": "code",
   "execution_count": null,
   "metadata": {},
   "outputs": [],
   "source": []
  }
 ],
 "metadata": {
  "kernelspec": {
   "display_name": "Python 3",
   "language": "python",
   "name": "python3"
  },
  "language_info": {
   "codemirror_mode": {
    "name": "ipython",
    "version": 3
   },
   "file_extension": ".py",
   "mimetype": "text/x-python",
   "name": "python",
   "nbconvert_exporter": "python",
   "pygments_lexer": "ipython3",
   "version": "3.8.3"
  }
 },
 "nbformat": 4,
 "nbformat_minor": 4
}
